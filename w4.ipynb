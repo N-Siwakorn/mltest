{
 "cells": [
  {
   "cell_type": "code",
   "execution_count": 77,
   "metadata": {},
   "outputs": [],
   "source": [
    "import random\n",
    "import numpy as np\n",
    "import matplotlib.pyplot as plt\n",
    "import sympy as sym\n",
    "import pandas as pd\n",
    "\n",
    "\n",
    "def match_values(dicts,val):\n",
    "    for i in list(dicts.keys()):\n",
    "        if dicts[i] == val:\n",
    "            return i\n",
    "\n",
    "def cross_validated(data,fold,degree):\n",
    "    rms = []\n",
    "    n = len(data)//fold\n",
    "    temp_data = list(data)\n",
    "    for _ in range(fold):\n",
    "        test = random.sample(temp_data,n)\n",
    "        train = list(data)\n",
    "        for i in test:\n",
    "            train.remove(i)\n",
    "            temp_data.remove(i)\n",
    "        rms.append(rmse_calculator(train,test,degree))\n",
    "    return sum(rms)/len(rms)\n",
    "\n",
    "\n",
    "def nested_cross_validated(data,fold):\n",
    "    rms = []\n",
    "    n = len(data)//fold\n",
    "    temp_data = list(data)\n",
    "    for _ in range(fold):\n",
    "        test = random.sample(temp_data,n)\n",
    "        train_val = list(data)\n",
    "        for i in test:\n",
    "            train_val.remove(i)\n",
    "            temp_data.remove(i)\n",
    "\n",
    "\n",
    "        temp_train_val = list(train_val)\n",
    "        n_nested = len(train_val)//fold\n",
    "        deg = {}\n",
    "        deg_avg = {}\n",
    "        deg_sd = {}\n",
    "        for i in range(1,11):\n",
    "            deg[i] = []\n",
    "            deg_avg[i] = []\n",
    "            deg_sd[i] = []\n",
    "        for _ in range(fold):\n",
    "            val = random.sample(temp_train_val,n_nested)\n",
    "            train = list(train_val)\n",
    "            for i in val:\n",
    "                train.remove(i)\n",
    "                temp_train_val.remove(i)\n",
    "            for degree in range(1,11):\n",
    "                rmtemp = rmse_calculator(train,val,degree)\n",
    "                deg[degree].append(rmtemp)\n",
    "\n",
    "        for i in range(1,11):\n",
    "            values = deg[i]\n",
    "            avg = sum(values)/len(values)\n",
    "            sd = (sum([(x-avg)**2 for x in values])/(len(values)-1))**(1/2)\n",
    "            deg_avg[i].append(round(avg,4))\n",
    "            deg_sd[i].append(round(sd,4)) \n",
    "        \n",
    "        best_sd = min(deg_sd.values())\n",
    "        best_avg = min(deg_avg.values())\n",
    "\n",
    "        best_degree = match_values(deg_sd,best_sd)\n",
    "        print(best_degree)\n",
    "        rmstemp = rmse_calculator(train_val,test,best_degree)\n",
    "        rms.append(rmstemp)\n",
    "    return sum(rms)/len(rms)\n",
    "\n",
    "            \n",
    "\n",
    "def table(sizelist,maxseed,degree,noise):\n",
    "    tb = {'Sample Size':sizelist,'Training':[],'CV':[]} \n",
    "    for i in sizelist:\n",
    "        train_list = []\n",
    "        cv_list = []\n",
    "        print(i)\n",
    "        for seed in range(maxseed):\n",
    "            data = generate_custom_sine_wave(i,seed,noise)\n",
    "            train_rmse = rmse_calculator(data,data,degree)\n",
    "            cv_rmse = cross_validated(data,5,degree)\n",
    "            train_list.append(train_rmse)\n",
    "            cv_list.append(cv_rmse)\n",
    "        tb['Training'].append(sum(train_list)/len(train_list))\n",
    "        tb['CV'].append(sum(cv_list)/len(cv_list))\n",
    "    csv = pd.DataFrame(tb)\n",
    "    return csv\n",
    "    \n",
    "        \n",
    "\n",
    "def generate_custom_sine_wave(num_points,seed,noise=0):\n",
    "    random.seed(seed)\n",
    "    x = [round(random.uniform(-1,1),3) for _ in range(num_points)]\n",
    "    # y = [np.sin(np.pi * i) for i in x]\n",
    "    \n",
    "    y = [round(np.sin(np.pi * i),3)+np.random.normal(0,noise,1)[0] for i in x]\n",
    "    xy = [[x[i],y[i]] for i in range(num_points)]\n",
    "    return xy\n",
    "\n",
    "def rmse(coef,xy):\n",
    "    data = []\n",
    "    for i in xy:\n",
    "        y_hat = 0\n",
    "        for j in range(len(coef)):\n",
    "            y_hat += coef.item(j)*i[0]**(j)\n",
    "        rse = (y_hat-i[1])**2\n",
    "        data.append(rse)\n",
    "    return (sum(data)/(len(data)))**(1/2)\n",
    "\n",
    "def normal_eq(xy,degree):\n",
    "    xn = [i[0] for i in xy]\n",
    "    yn = [i[1] for i in xy]\n",
    "    x_mat = []  \n",
    "    for i in range(degree+1):\n",
    "        x_mat.append([x**i for x in xn])\n",
    "    cmx = np.matrix(x_mat).transpose()\n",
    "    my = np.matrix(yn).transpose()\n",
    "    xT = cmx.transpose()\n",
    "    coef = ((xT*cmx)**-1)*(xT*my)\n",
    "    return coef\n",
    "\n",
    "def rmse_calculator(train,test,degree):\n",
    "    coef = normal_eq(train,degree)\n",
    "    result = rmse(coef,test)\n",
    "    return result\n",
    "\n"
   ]
  },
  {
   "cell_type": "code",
   "execution_count": 78,
   "metadata": {},
   "outputs": [
    {
     "name": "stdout",
     "output_type": "stream",
     "text": [
      "2\n",
      "2\n",
      "6\n",
      "7\n",
      "6\n"
     ]
    },
    {
     "data": {
      "text/plain": [
       "0.5479902689741476"
      ]
     },
     "execution_count": 78,
     "metadata": {},
     "output_type": "execute_result"
    }
   ],
   "source": [
    "xy = generate_custom_sine_wave(80,2,0.5)\n",
    "\n",
    "nested_cross_validated(xy,5)"
   ]
  },
  {
   "cell_type": "code",
   "execution_count": null,
   "metadata": {},
   "outputs": [],
   "source": [
    "xy = generate_custom_sine_wave(1,2,0)\n",
    "x_arr = [i[0] for i in xy]\n",
    "y_arr = [i[1] for i in xy]\n",
    "plt.scatter(x_arr,y_arr)\n",
    "\n",
    "coef = normal_eq(xy,1)\n",
    "\n",
    "def yl(x,coef):\n",
    "    yl = []\n",
    "    for i in x:\n",
    "        y = 0\n",
    "        for j in range(len(coef)):\n",
    "            y += coef.item(j)*i**(j)\n",
    "        yl.append(y)\n",
    "    return yl\n",
    "print(round(rmse(coef,xy),4))\n",
    "# print(cross_validated(xy,,1))\n",
    "# y = 0\n",
    "# x = sym.symbols('x')\n",
    "# for i in range(len(coef)):\n",
    "#     y += coef.item(i)*x**(i)\n",
    "# print(sym.simplify(y))\n",
    "lix = list(np.linspace(-1,1))\n",
    "# liy = [y.subs([(x,i)]) for i in lix]\n",
    "liy = yl(lix,coef)\n",
    "plt.ylim([-2,2])\n",
    "plt.plot(lix,liy,color ='red')\n",
    "plt.show()\n"
   ]
  },
  {
   "cell_type": "code",
   "execution_count": null,
   "metadata": {},
   "outputs": [],
   "source": [
    "\n",
    "\n",
    "\n",
    "\n",
    "xy = [[-0.731, -0.748], [-0.49, -1.0], [-0.101, -0.312], [0.303, 0.815], [-0.943, -0.178]]\n",
    "x=[i[0] for i in xy]\n",
    "y = [i[1] for i in xy]\n",
    "print(np.polyfit(x,y,9))\n",
    "print(normal_eq(xy,9))"
   ]
  },
  {
   "cell_type": "code",
   "execution_count": 66,
   "metadata": {},
   "outputs": [
    {
     "name": "stdout",
     "output_type": "stream",
     "text": [
      "10\n"
     ]
    },
    {
     "data": {
      "text/plain": [
       "3"
      ]
     },
     "execution_count": 66,
     "metadata": {},
     "output_type": "execute_result"
    }
   ],
   "source": [
    "a = {1:2,2:1,3:10,4:0.5}\n",
    "\n",
    "print(max(a.values()))\n",
    "def match_values(dicts,val):\n",
    "    for i in list(dicts.keys()):\n",
    "        if dicts[i] == val:\n",
    "            return i\n",
    "match_values(a,10)"
   ]
  }
 ],
 "metadata": {
  "kernelspec": {
   "display_name": "Python 3",
   "language": "python",
   "name": "python3"
  },
  "language_info": {
   "codemirror_mode": {
    "name": "ipython",
    "version": 3
   },
   "file_extension": ".py",
   "mimetype": "text/x-python",
   "name": "python",
   "nbconvert_exporter": "python",
   "pygments_lexer": "ipython3",
   "version": "3.11.4"
  },
  "orig_nbformat": 4
 },
 "nbformat": 4,
 "nbformat_minor": 2
}
